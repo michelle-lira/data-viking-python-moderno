{
 "cells": [
  {
   "attachments": {},
   "cell_type": "markdown",
   "metadata": {},
   "source": [
    "# Data Viking: Curso de Python Moderno + Análise de Dados\n",
    "Prof. Odemir Depieri    \n",
    "https://www.youtube.com/watch?v=Cv9sQIr33A8&list=PLLWTDkRZXQa9YyC1LMbuDTz3XVC4E9ZQA&index=2&ab_channel=DataViking"
   ]
  },
  {
   "cell_type": "code",
   "execution_count": null,
   "metadata": {},
   "outputs": [],
   "source": []
  }
 ],
 "metadata": {
  "language_info": {
   "name": "python"
  },
  "orig_nbformat": 4
 },
 "nbformat": 4,
 "nbformat_minor": 2
}
